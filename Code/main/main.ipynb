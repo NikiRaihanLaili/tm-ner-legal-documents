{
 "cells": [
  {
   "cell_type": "code",
   "execution_count": null,
   "id": "4236abc6",
   "metadata": {},
   "outputs": [],
   "source": [
    "# %pip install -r requirements.txt # type: ignore"
   ]
  },
  {
   "cell_type": "code",
   "execution_count": 1,
   "id": "b0032cd5",
   "metadata": {},
   "outputs": [],
   "source": [
    "from datasets import load_dataset\n",
    "import pandas as pd\n",
    "import os\n",
    "import re\n",
    "import string\n",
    "from tqdm import tqdm"
   ]
  },
  {
   "cell_type": "code",
   "execution_count": 2,
   "id": "ce114a17",
   "metadata": {},
   "outputs": [],
   "source": [
    "from nltk.tokenize import word_tokenize\n",
    "import nltk\n"
   ]
  },
  {
   "cell_type": "code",
   "execution_count": 3,
   "id": "ea3f2429",
   "metadata": {},
   "outputs": [],
   "source": [
    "nltk.data.path.append(os.path.abspath('nltk_data'))"
   ]
  },
  {
   "cell_type": "code",
   "execution_count": 4,
   "id": "6c356c69",
   "metadata": {},
   "outputs": [],
   "source": [
    "\n",
    "# nltk.download('stopwords' , download_dir='nltk_data')\n",
    "# nltk.download('wordnet' , download_dir='nltk_data')"
   ]
  },
  {
   "cell_type": "markdown",
   "id": "808c2604",
   "metadata": {},
   "source": [
    "---\n"
   ]
  },
  {
   "cell_type": "markdown",
   "id": "647c2d42",
   "metadata": {},
   "source": [
    "# DATASET\n"
   ]
  },
  {
   "cell_type": "code",
   "execution_count": 5,
   "id": "457cd08d",
   "metadata": {},
   "outputs": [],
   "source": [
    "main_path = os.path.abspath('../../Datasets/ANOTASI/HasilAnotasiPutusan.csv')"
   ]
  },
  {
   "cell_type": "code",
   "execution_count": 6,
   "id": "35638432",
   "metadata": {},
   "outputs": [],
   "source": [
    "main_df = pd.read_csv(main_path)"
   ]
  },
  {
   "cell_type": "code",
   "execution_count": 7,
   "id": "37c44460",
   "metadata": {},
   "outputs": [
    {
     "data": {
      "application/vnd.microsoft.datawrangler.viewer.v0+json": {
       "columns": [
        {
         "name": "index",
         "rawType": "int64",
         "type": "integer"
        },
        {
         "name": "doc",
         "rawType": "object",
         "type": "string"
        },
        {
         "name": "fragment",
         "rawType": "object",
         "type": "string"
        },
        {
         "name": "token",
         "rawType": "object",
         "type": "unknown"
        },
        {
         "name": "tag",
         "rawType": "object",
         "type": "string"
        }
       ],
       "conversionMethod": "pd.DataFrame",
       "ref": "92cca439-523e-4b8e-b8f8-c942d3c7c275",
       "rows": [
        [
         "0",
         "doc:1",
         "fragment:1",
         "PUTUSAN",
         "O"
        ],
        [
         "1",
         "doc:1",
         "fragment:1",
         "Nomor",
         "O"
        ],
        [
         "2",
         "doc:1",
         "fragment:1",
         "161",
         "B_VERN"
        ],
        [
         "3",
         "doc:1",
         "fragment:1",
         "/",
         "I_VERN"
        ],
        [
         "4",
         "doc:1",
         "fragment:1",
         "Pid",
         "I_VERN"
        ],
        [
         "5",
         "doc:1",
         "fragment:1",
         ".",
         "I_VERN"
        ],
        [
         "6",
         "doc:1",
         "fragment:1",
         "B",
         "I_VERN"
        ],
        [
         "7",
         "doc:1",
         "fragment:1",
         "/",
         "I_VERN"
        ],
        [
         "8",
         "doc:1",
         "fragment:1",
         "2020",
         "I_VERN"
        ],
        [
         "9",
         "doc:1",
         "fragment:1",
         "/",
         "I_VERN"
        ],
        [
         "10",
         "doc:1",
         "fragment:1",
         "PN",
         "I_VERN"
        ],
        [
         "11",
         "doc:1",
         "fragment:1",
         "Bkl",
         "I_VERN"
        ],
        [
         "12",
         "doc:1",
         "fragment:1",
         "DEMI",
         "O"
        ],
        [
         "13",
         "doc:1",
         "fragment:1",
         "KEADILAN",
         "O"
        ],
        [
         "14",
         "doc:1",
         "fragment:1",
         "BERDASARKAN",
         "O"
        ],
        [
         "15",
         "doc:1",
         "fragment:1",
         "KETUHANAN",
         "O"
        ],
        [
         "16",
         "doc:1",
         "fragment:1",
         "YANG",
         "O"
        ],
        [
         "17",
         "doc:1",
         "fragment:1",
         "MAHA",
         "O"
        ],
        [
         "18",
         "doc:1",
         "fragment:1",
         "ESA",
         "O"
        ],
        [
         "19",
         "doc:1",
         "fragment:1",
         "Pengadilan",
         "O"
        ],
        [
         "20",
         "doc:1",
         "fragment:1",
         "Negeri",
         "O"
        ],
        [
         "21",
         "doc:1",
         "fragment:1",
         "Bangkalan",
         "O"
        ],
        [
         "22",
         "doc:1",
         "fragment:1",
         "yang",
         "O"
        ],
        [
         "23",
         "doc:1",
         "fragment:1",
         "mengadili",
         "O"
        ],
        [
         "24",
         "doc:1",
         "fragment:1",
         "perkara",
         "O"
        ],
        [
         "25",
         "doc:1",
         "fragment:1",
         "pidana",
         "O"
        ],
        [
         "26",
         "doc:1",
         "fragment:1",
         "dengan",
         "O"
        ],
        [
         "27",
         "doc:1",
         "fragment:1",
         "acara",
         "O"
        ],
        [
         "28",
         "doc:1",
         "fragment:1",
         "pemeriksaan",
         "O"
        ],
        [
         "29",
         "doc:1",
         "fragment:1",
         "biasa",
         "O"
        ],
        [
         "30",
         "doc:1",
         "fragment:1",
         "dalam",
         "O"
        ],
        [
         "31",
         "doc:1",
         "fragment:1",
         "tingkat",
         "O"
        ],
        [
         "32",
         "doc:1",
         "fragment:1",
         "pertama",
         "O"
        ],
        [
         "33",
         "doc:1",
         "fragment:1",
         "menjatuhkan",
         "O"
        ],
        [
         "34",
         "doc:1",
         "fragment:1",
         "putusan",
         "O"
        ],
        [
         "35",
         "doc:1",
         "fragment:1",
         "sebagai",
         "O"
        ],
        [
         "36",
         "doc:1",
         "fragment:1",
         "berikut",
         "O"
        ],
        [
         "37",
         "doc:1",
         "fragment:1",
         "dalam",
         "O"
        ],
        [
         "38",
         "doc:1",
         "fragment:1",
         "perkara",
         "O"
        ],
        [
         "39",
         "doc:1",
         "fragment:1",
         "terdakwa",
         "O"
        ],
        [
         "40",
         "doc:1",
         "fragment:1",
         ":",
         "O"
        ],
        [
         "41",
         "doc:1",
         "fragment:1",
         "terdakwa",
         "O"
        ],
        [
         "42",
         "doc:1",
         "fragment:1",
         "1",
         "O"
        ],
        [
         "43",
         "doc:1",
         "fragment:1",
         ".",
         "O"
        ],
        [
         "44",
         "doc:1",
         "fragment:1",
         "Nama",
         "O"
        ],
        [
         "45",
         "doc:1",
         "fragment:1",
         "lengkap",
         "O"
        ],
        [
         "46",
         "doc:1",
         "fragment:1",
         ":",
         "B_DEFN"
        ],
        [
         "47",
         "doc:1",
         "fragment:1",
         "Samuri",
         "I_DEFN"
        ],
        [
         "48",
         "doc:1",
         "fragment:1",
         "Alias",
         "I_DEFN"
        ],
        [
         "49",
         "doc:1",
         "fragment:1",
         "Mori",
         "I_DEFN"
        ]
       ],
       "shape": {
        "columns": 4,
        "rows": 2537889
       }
      },
      "text/html": [
       "<div>\n",
       "<style scoped>\n",
       "    .dataframe tbody tr th:only-of-type {\n",
       "        vertical-align: middle;\n",
       "    }\n",
       "\n",
       "    .dataframe tbody tr th {\n",
       "        vertical-align: top;\n",
       "    }\n",
       "\n",
       "    .dataframe thead th {\n",
       "        text-align: right;\n",
       "    }\n",
       "</style>\n",
       "<table border=\"1\" class=\"dataframe\">\n",
       "  <thead>\n",
       "    <tr style=\"text-align: right;\">\n",
       "      <th></th>\n",
       "      <th>doc</th>\n",
       "      <th>fragment</th>\n",
       "      <th>token</th>\n",
       "      <th>tag</th>\n",
       "    </tr>\n",
       "  </thead>\n",
       "  <tbody>\n",
       "    <tr>\n",
       "      <th>0</th>\n",
       "      <td>doc:1</td>\n",
       "      <td>fragment:1</td>\n",
       "      <td>PUTUSAN</td>\n",
       "      <td>O</td>\n",
       "    </tr>\n",
       "    <tr>\n",
       "      <th>1</th>\n",
       "      <td>doc:1</td>\n",
       "      <td>fragment:1</td>\n",
       "      <td>Nomor</td>\n",
       "      <td>O</td>\n",
       "    </tr>\n",
       "    <tr>\n",
       "      <th>2</th>\n",
       "      <td>doc:1</td>\n",
       "      <td>fragment:1</td>\n",
       "      <td>161</td>\n",
       "      <td>B_VERN</td>\n",
       "    </tr>\n",
       "    <tr>\n",
       "      <th>3</th>\n",
       "      <td>doc:1</td>\n",
       "      <td>fragment:1</td>\n",
       "      <td>/</td>\n",
       "      <td>I_VERN</td>\n",
       "    </tr>\n",
       "    <tr>\n",
       "      <th>4</th>\n",
       "      <td>doc:1</td>\n",
       "      <td>fragment:1</td>\n",
       "      <td>Pid</td>\n",
       "      <td>I_VERN</td>\n",
       "    </tr>\n",
       "    <tr>\n",
       "      <th>...</th>\n",
       "      <td>...</td>\n",
       "      <td>...</td>\n",
       "      <td>...</td>\n",
       "      <td>...</td>\n",
       "    </tr>\n",
       "    <tr>\n",
       "      <th>2537884</th>\n",
       "      <td>doc:345</td>\n",
       "      <td>fragment:50030</td>\n",
       "      <td>,</td>\n",
       "      <td>O</td>\n",
       "    </tr>\n",
       "    <tr>\n",
       "      <th>2537885</th>\n",
       "      <td>doc:345</td>\n",
       "      <td>fragment:50030</td>\n",
       "      <td>S</td>\n",
       "      <td>O</td>\n",
       "    </tr>\n",
       "    <tr>\n",
       "      <th>2537886</th>\n",
       "      <td>doc:345</td>\n",
       "      <td>fragment:50030</td>\n",
       "      <td>.</td>\n",
       "      <td>O</td>\n",
       "    </tr>\n",
       "    <tr>\n",
       "      <th>2537887</th>\n",
       "      <td>doc:345</td>\n",
       "      <td>fragment:50030</td>\n",
       "      <td>H</td>\n",
       "      <td>O</td>\n",
       "    </tr>\n",
       "    <tr>\n",
       "      <th>2537888</th>\n",
       "      <td>doc:345</td>\n",
       "      <td>fragment:50030</td>\n",
       "      <td>.</td>\n",
       "      <td>O</td>\n",
       "    </tr>\n",
       "  </tbody>\n",
       "</table>\n",
       "<p>2537889 rows × 4 columns</p>\n",
       "</div>"
      ],
      "text/plain": [
       "             doc        fragment    token     tag\n",
       "0          doc:1      fragment:1  PUTUSAN       O\n",
       "1          doc:1      fragment:1    Nomor       O\n",
       "2          doc:1      fragment:1      161  B_VERN\n",
       "3          doc:1      fragment:1        /  I_VERN\n",
       "4          doc:1      fragment:1      Pid  I_VERN\n",
       "...          ...             ...      ...     ...\n",
       "2537884  doc:345  fragment:50030        ,       O\n",
       "2537885  doc:345  fragment:50030        S       O\n",
       "2537886  doc:345  fragment:50030        .       O\n",
       "2537887  doc:345  fragment:50030        H       O\n",
       "2537888  doc:345  fragment:50030        .       O\n",
       "\n",
       "[2537889 rows x 4 columns]"
      ]
     },
     "execution_count": 7,
     "metadata": {},
     "output_type": "execute_result"
    }
   ],
   "source": [
    "main_df"
   ]
  },
  {
   "cell_type": "code",
   "execution_count": 8,
   "id": "9baf603a",
   "metadata": {},
   "outputs": [
    {
     "name": "stdout",
     "output_type": "stream",
     "text": [
      "     doc    fragment    token tag\n",
      "0  doc:1  fragment:1  PUTUSAN   O\n"
     ]
    }
   ],
   "source": [
    "print(main_df[0:1])"
   ]
  },
  {
   "cell_type": "code",
   "execution_count": 9,
   "id": "ab5694cf",
   "metadata": {},
   "outputs": [
    {
     "name": "stdout",
     "output_type": "stream",
     "text": [
      "<class 'pandas.core.frame.DataFrame'>\n",
      "RangeIndex: 2537889 entries, 0 to 2537888\n",
      "Data columns (total 4 columns):\n",
      " #   Column    Dtype \n",
      "---  ------    ----- \n",
      " 0   doc       object\n",
      " 1   fragment  object\n",
      " 2   token     object\n",
      " 3   tag       object\n",
      "dtypes: object(4)\n",
      "memory usage: 77.5+ MB\n"
     ]
    }
   ],
   "source": [
    "main_df.info()"
   ]
  },
  {
   "cell_type": "code",
   "execution_count": 10,
   "id": "061aab3b",
   "metadata": {},
   "outputs": [
    {
     "data": {
      "application/vnd.microsoft.datawrangler.viewer.v0+json": {
       "columns": [
        {
         "name": "index",
         "rawType": "int64",
         "type": "integer"
        },
        {
         "name": "doc",
         "rawType": "object",
         "type": "string"
        },
        {
         "name": "fragment",
         "rawType": "object",
         "type": "string"
        },
        {
         "name": "token",
         "rawType": "object",
         "type": "string"
        },
        {
         "name": "tag",
         "rawType": "object",
         "type": "string"
        }
       ],
       "conversionMethod": "pd.DataFrame",
       "ref": "645942ed-889b-4e4b-ba32-5d54842789b3",
       "rows": [
        [
         "0",
         "doc:1",
         "fragment:1",
         "PUTUSAN",
         "O"
        ],
        [
         "1",
         "doc:1",
         "fragment:1",
         "Nomor",
         "O"
        ],
        [
         "2",
         "doc:1",
         "fragment:1",
         "161",
         "B_VERN"
        ],
        [
         "3",
         "doc:1",
         "fragment:1",
         "/",
         "I_VERN"
        ],
        [
         "4",
         "doc:1",
         "fragment:1",
         "Pid",
         "I_VERN"
        ],
        [
         "5",
         "doc:1",
         "fragment:1",
         ".",
         "I_VERN"
        ]
       ],
       "shape": {
        "columns": 4,
        "rows": 6
       }
      },
      "text/html": [
       "<div>\n",
       "<style scoped>\n",
       "    .dataframe tbody tr th:only-of-type {\n",
       "        vertical-align: middle;\n",
       "    }\n",
       "\n",
       "    .dataframe tbody tr th {\n",
       "        vertical-align: top;\n",
       "    }\n",
       "\n",
       "    .dataframe thead th {\n",
       "        text-align: right;\n",
       "    }\n",
       "</style>\n",
       "<table border=\"1\" class=\"dataframe\">\n",
       "  <thead>\n",
       "    <tr style=\"text-align: right;\">\n",
       "      <th></th>\n",
       "      <th>doc</th>\n",
       "      <th>fragment</th>\n",
       "      <th>token</th>\n",
       "      <th>tag</th>\n",
       "    </tr>\n",
       "  </thead>\n",
       "  <tbody>\n",
       "    <tr>\n",
       "      <th>0</th>\n",
       "      <td>doc:1</td>\n",
       "      <td>fragment:1</td>\n",
       "      <td>PUTUSAN</td>\n",
       "      <td>O</td>\n",
       "    </tr>\n",
       "    <tr>\n",
       "      <th>1</th>\n",
       "      <td>doc:1</td>\n",
       "      <td>fragment:1</td>\n",
       "      <td>Nomor</td>\n",
       "      <td>O</td>\n",
       "    </tr>\n",
       "    <tr>\n",
       "      <th>2</th>\n",
       "      <td>doc:1</td>\n",
       "      <td>fragment:1</td>\n",
       "      <td>161</td>\n",
       "      <td>B_VERN</td>\n",
       "    </tr>\n",
       "    <tr>\n",
       "      <th>3</th>\n",
       "      <td>doc:1</td>\n",
       "      <td>fragment:1</td>\n",
       "      <td>/</td>\n",
       "      <td>I_VERN</td>\n",
       "    </tr>\n",
       "    <tr>\n",
       "      <th>4</th>\n",
       "      <td>doc:1</td>\n",
       "      <td>fragment:1</td>\n",
       "      <td>Pid</td>\n",
       "      <td>I_VERN</td>\n",
       "    </tr>\n",
       "    <tr>\n",
       "      <th>5</th>\n",
       "      <td>doc:1</td>\n",
       "      <td>fragment:1</td>\n",
       "      <td>.</td>\n",
       "      <td>I_VERN</td>\n",
       "    </tr>\n",
       "  </tbody>\n",
       "</table>\n",
       "</div>"
      ],
      "text/plain": [
       "     doc    fragment    token     tag\n",
       "0  doc:1  fragment:1  PUTUSAN       O\n",
       "1  doc:1  fragment:1    Nomor       O\n",
       "2  doc:1  fragment:1      161  B_VERN\n",
       "3  doc:1  fragment:1        /  I_VERN\n",
       "4  doc:1  fragment:1      Pid  I_VERN\n",
       "5  doc:1  fragment:1        .  I_VERN"
      ]
     },
     "execution_count": 10,
     "metadata": {},
     "output_type": "execute_result"
    }
   ],
   "source": [
    "main_df[0:6]"
   ]
  },
  {
   "cell_type": "markdown",
   "id": "2783b350",
   "metadata": {},
   "source": [
    "---\n"
   ]
  }
 ],
 "metadata": {
  "kernelspec": {
   "display_name": ".venv",
   "language": "python",
   "name": "python3"
  },
  "language_info": {
   "codemirror_mode": {
    "name": "ipython",
    "version": 3
   },
   "file_extension": ".py",
   "mimetype": "text/x-python",
   "name": "python",
   "nbconvert_exporter": "python",
   "pygments_lexer": "ipython3",
   "version": "3.12.6"
  }
 },
 "nbformat": 4,
 "nbformat_minor": 5
}
